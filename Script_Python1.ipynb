{
  "nbformat": 4,
  "nbformat_minor": 0,
  "metadata": {
    "colab": {
      "name": "Script Python1.ipynb",
      "provenance": [],
      "include_colab_link": true
    },
    "kernelspec": {
      "name": "python3",
      "display_name": "Python 3"
    },
    "language_info": {
      "name": "python"
    }
  },
  "cells": [
    {
      "cell_type": "markdown",
      "metadata": {
        "id": "view-in-github",
        "colab_type": "text"
      },
      "source": [
        "<a href=\"https://colab.research.google.com/github/RobertoOliveiraBI/Estudos_Python/blob/main/Script_Python1.ipynb\" target=\"_parent\"><img src=\"https://colab.research.google.com/assets/colab-badge.svg\" alt=\"Open In Colab\"/></a>"
      ]
    },
    {
      "cell_type": "markdown",
      "source": [
        "*texto em itálico*# Nova seção"
      ],
      "metadata": {
        "id": "BgWtEl60g3CR"
      }
    },
    {
      "cell_type": "markdown",
      "source": [
        "# Módulo 1 - Programação Python"
      ],
      "metadata": {
        "id": "Xuozl4HcEjle"
      }
    },
    {
      "cell_type": "markdown",
      "source": [
        "Básico"
      ],
      "metadata": {
        "id": "I5wYtBsYGvXQ"
      }
    },
    {
      "cell_type": "code",
      "source": [
        "print('Bem vindo ao Python!\\nUma jornada na programação')"
      ],
      "metadata": {
        "colab": {
          "base_uri": "https://localhost:8080/"
        },
        "id": "IUw9StcPGjlv",
        "outputId": "9cb2b3b8-0aa3-473b-f9b7-8f6fc968cda9"
      },
      "execution_count": null,
      "outputs": [
        {
          "output_type": "stream",
          "name": "stdout",
          "text": [
            "Bem vindo ao Python!\n",
            "Uma jornada na programação\n"
          ]
        }
      ]
    },
    {
      "cell_type": "code",
      "source": [
        "# Isso é um comentário!\n",
        "1+3+5"
      ],
      "metadata": {
        "colab": {
          "base_uri": "https://localhost:8080/"
        },
        "id": "YrZBaZk9HH-F",
        "outputId": "0278e8d2-7af9-4c41-9106-3f86ffb51838"
      },
      "execution_count": null,
      "outputs": [
        {
          "output_type": "execute_result",
          "data": {
            "text/plain": [
              "9"
            ]
          },
          "metadata": {},
          "execution_count": 9
        }
      ]
    },
    {
      "cell_type": "code",
      "source": [
        "4*4"
      ],
      "metadata": {
        "colab": {
          "base_uri": "https://localhost:8080/"
        },
        "id": "YoYcA-BsOzKE",
        "outputId": "e59b9224-fd74-4d31-e688-ce5204ff1428"
      },
      "execution_count": null,
      "outputs": [
        {
          "output_type": "execute_result",
          "data": {
            "text/plain": [
              "16"
            ]
          },
          "metadata": {},
          "execution_count": 10
        }
      ]
    },
    {
      "cell_type": "code",
      "source": [
        "3 // 4\n"
      ],
      "metadata": {
        "colab": {
          "base_uri": "https://localhost:8080/"
        },
        "id": "Ix9FljjmO1bU",
        "outputId": "a5d5446b-8035-499d-841f-e35f8d13e18f"
      },
      "execution_count": null,
      "outputs": [
        {
          "output_type": "execute_result",
          "data": {
            "text/plain": [
              "0"
            ]
          },
          "metadata": {},
          "execution_count": 11
        }
      ]
    },
    {
      "cell_type": "code",
      "source": [
        "teste 2\n"
      ],
      "metadata": {
        "id": "bkS_LxRIPNif",
        "outputId": "7c056925-aee9-4abb-dda1-3e2f143e1164",
        "colab": {
          "base_uri": "https://localhost:8080/",
          "height": 130
        }
      },
      "execution_count": 1,
      "outputs": [
        {
          "output_type": "error",
          "ename": "SyntaxError",
          "evalue": "ignored",
          "traceback": [
            "\u001b[0;36m  File \u001b[0;32m\"<ipython-input-1-c3852bd4b011>\"\u001b[0;36m, line \u001b[0;32m1\u001b[0m\n\u001b[0;31m    teste 2\u001b[0m\n\u001b[0m          ^\u001b[0m\n\u001b[0;31mSyntaxError\u001b[0m\u001b[0;31m:\u001b[0m invalid syntax\n"
          ]
        }
      ]
    },
    {
      "cell_type": "code",
      "source": [
        ""
      ],
      "metadata": {
        "id": "c6XTdmie5KSP"
      },
      "execution_count": null,
      "outputs": []
    }
  ]
}