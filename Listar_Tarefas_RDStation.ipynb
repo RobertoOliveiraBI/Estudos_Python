{
  "nbformat": 4,
  "nbformat_minor": 0,
  "metadata": {
    "colab": {
      "provenance": [],
      "toc_visible": true,
      "authorship_tag": "ABX9TyO7ILzO8MXinaag2j+pOsIT",
      "include_colab_link": true
    },
    "kernelspec": {
      "name": "python3",
      "display_name": "Python 3"
    },
    "language_info": {
      "name": "python"
    }
  },
  "cells": [
    {
      "cell_type": "markdown",
      "metadata": {
        "id": "view-in-github",
        "colab_type": "text"
      },
      "source": [
        "<a href=\"https://colab.research.google.com/github/RobertoOliveiraBI/Estudos_Python/blob/main/Listar_Tarefas_RDStation.ipynb\" target=\"_parent\"><img src=\"https://colab.research.google.com/assets/colab-badge.svg\" alt=\"Open In Colab\"/></a>"
      ]
    },
    {
      "cell_type": "code",
      "source": [
        "import requests\n",
        "import csv\n",
        "\n",
        "# 🔹 COLE AQUI O TOKEN DO SEU USUÁRIO DO RD STATION CRM\n",
        "USER_TOKEN = \"654e4522e46816000d5beebb\"  # Pegue esse token no RD Station CRM > Configurações > Integrações\n",
        "\n",
        "# URL base da API do RD Station CRM\n",
        "BASE_URL = \"https://crm.rdstation.com/api/v1\"\n",
        "\n",
        "# Função para listar as tarefas do RD Station CRM\n",
        "def get_tasks():\n",
        "    TASKS_URL = f\"{BASE_URL}/tasks?token={USER_TOKEN}\"  # 🔥 Token do usuário na URL\n",
        "\n",
        "    params = {\n",
        "        \"page\": 1,\n",
        "        \"limit\": 200  # Máximo permitido pela API\n",
        "    }\n",
        "\n",
        "    headers = {\n",
        "        \"Accept\": \"application/json\",\n",
        "        \"Content-Type\": \"application/json\"\n",
        "    }\n",
        "\n",
        "    all_tasks = []\n",
        "\n",
        "    while True:\n",
        "        response = requests.get(TASKS_URL, headers=headers, params=params)\n",
        "\n",
        "        if response.status_code == 200:\n",
        "            data = response.json()\n",
        "            tasks = data.get(\"tasks\", [])\n",
        "            all_tasks.extend(tasks)\n",
        "\n",
        "            # Se não houver mais páginas, saímos do loop\n",
        "            if len(tasks) < params[\"limit\"]:\n",
        "                break\n",
        "            else:\n",
        "                params[\"page\"] += 1\n",
        "        else:\n",
        "            print(f\"❌ Erro ao buscar tarefas: {response.status_code}, {response.text}\")\n",
        "            return []\n",
        "\n",
        "    return all_tasks\n",
        "\n",
        "# Função para exportar as tarefas para CSV (com encoding corrigido)\n",
        "def export_to_csv(tasks):\n",
        "    if not tasks:\n",
        "        print(\"⚠️ Nenhuma tarefa encontrada! Verifique se existem tarefas ativas no RD Station CRM.\")\n",
        "        return\n",
        "\n",
        "    with open(\"tasks.csv\", \"w\", newline=\"\", encoding=\"utf-8-sig\") as csvfile:  # 🔥 Corrigido para UTF-8 com BOM\n",
        "        fieldnames = tasks[0].keys()\n",
        "        writer = csv.DictWriter(csvfile, fieldnames=fieldnames)\n",
        "        writer.writeheader()\n",
        "        writer.writerows(tasks)\n",
        "\n",
        "    print(f\"✅ {len(tasks)} tarefas exportadas para 'tasks.csv' (encoding UTF-8 corrigido)\")\n",
        "\n",
        "# 🔥 Execução\n",
        "tasks = get_tasks()\n",
        "export_to_csv(tasks)\n"
      ],
      "metadata": {
        "colab": {
          "base_uri": "https://localhost:8080/"
        },
        "id": "oEb6wCXnLIGv",
        "outputId": "48bd99af-7017-455c-8a5a-be1bfdf65b73"
      },
      "execution_count": 6,
      "outputs": [
        {
          "output_type": "stream",
          "name": "stdout",
          "text": [
            "✅ 219 tarefas exportadas para 'tasks.csv' (encoding UTF-8 corrigido)\n"
          ]
        }
      ]
    }
  ]
}